{
 "cells": [
  {
   "cell_type": "markdown",
   "id": "633160a3",
   "metadata": {},
   "source": [
    "### 📝Lista de Exercícios: Condicionais IF/ELSE"
   ]
  },
  {
   "cell_type": "markdown",
   "id": "605d2a7e",
   "metadata": {},
   "source": [
    "Exercício 1 - Maioridade 🔞\n",
    "\n",
    "Crie um programa que pergunta a idade do usuário e diz se ele é maior ou menor de idade."
   ]
  },
  {
   "cell_type": "code",
   "execution_count": 2,
   "id": "93ea230f",
   "metadata": {},
   "outputs": [
    {
     "name": "stdout",
     "output_type": "stream",
     "text": [
      "menor de idade\n"
     ]
    }
   ],
   "source": [
    "idade = int(input(\"Quantos anos você tem? \"))\n",
    "\n",
    "# Complete o código aqui\n",
    "if idade >= 18:\n",
    "    print(\"maior de idade\")\n",
    "else:\n",
    "    print(\"menor de idade\")\n"
   ]
  },
  {
   "cell_type": "markdown",
   "id": "6e9528f5",
   "metadata": {},
   "source": [
    "Exercício 2 - Aprovação na Prova 🧠\n",
    "\n",
    "Faça um programa que pergunte a nota de um aluno (0 a 10) e diz se ele foi aprovado(nota >= 5) ou reprovado (nota <5)."
   ]
  },
  {
   "cell_type": "code",
   "execution_count": 5,
   "id": "4a9f8f8b",
   "metadata": {},
   "outputs": [
    {
     "name": "stdout",
     "output_type": "stream",
     "text": [
      "aprovado\n"
     ]
    }
   ],
   "source": [
    "nota = float(input(\"Informe a sua nota de (0 a 10)\"))\n",
    "\n",
    "# Complete o código aqui\n",
    "if nota >=5:\n",
    "    print(\"aprovado\")\n",
    "else:\n",
    "    print(\"reprovado\")"
   ]
  },
  {
   "cell_type": "markdown",
   "id": "9f8e9b92",
   "metadata": {},
   "source": [
    "Exercicio 3 - CNH 🚘🚙\n",
    "\n",
    " 1º - Peça ao usuário que digite a idade dele.\n",
    "\n",
    " 2º - Peça pra ele dizer se foi aprovado ou reprovado no curso de cnh.\n",
    "\n",
    " 3º - Use if e else para verificar se ele tem 18 anos ou mais e se foi aprovado.\n",
    "\n",
    " 4º - Se as condições do passo 3 estiverem certas, print(\"pode dirigir\").\n",
    " \n",
    " 5º - Se não print(\"vai andar a pé\")"
   ]
  },
  {
   "cell_type": "code",
   "execution_count": 13,
   "id": "bee9f043",
   "metadata": {},
   "outputs": [
    {
     "name": "stdout",
     "output_type": "stream",
     "text": [
      "vai andar de apé\n"
     ]
    }
   ],
   "source": [
    "idade = int(input(\"qual a sua idade?\"))\n",
    "### Seu código aqui\n",
    "cnh = input(\"voce foi aprovado?(apenas sim ou não)\")\n",
    "if idade >=18 and cnh ==\"sim\":\n",
    "    print(\"voce pode dirigir\")\n",
    "else:\n",
    "    print(\"vai andar de apé\")\n"
   ]
  },
  {
   "cell_type": "markdown",
   "id": "e9c60d12",
   "metadata": {},
   "source": [
    "Exercício 4 - Calculadora de Desconto. 💵 🤑\n",
    "\n",
    "Uma loja dá 10% de desconto para compras acima de R$ 100,00. Faça um programa que:\n",
    "\n",
    "1º - Pergunta o valor da compra.\n",
    "\n",
    "2º - Calcula o valor final com desconto (se aplicável).\n",
    "\n",
    "3º - Mostra o valor a pagar."
   ]
  },
  {
   "cell_type": "code",
   "execution_count": 21,
   "id": "5edc8855",
   "metadata": {},
   "outputs": [
    {
     "name": "stdout",
     "output_type": "stream",
     "text": [
      "o valor da sua compra é: 90.0\n"
     ]
    }
   ],
   "source": [
    "valor_compra = float(input(\"qual o valor da sua compra?\"))\n",
    "### Seu código aqui\n",
    "desconto = valor_compra * 0.10\n",
    "valor_final = valor_compra - desconto\n",
    "\n",
    "if valor_compra >= 100:\n",
    "     print (\"o valor da sua compra é:\", valor_final)\n",
    "\n",
    "else:\n",
    "    print(\"voce gastou menos do que 100, entao vc nao tem desconto\")"
   ]
  },
  {
   "cell_type": "markdown",
   "id": "ec96b43c",
   "metadata": {},
   "source": [
    "Exercício 5 - Classificação de Notas 🧑‍🎓\n",
    "\n",
    "Pergunte a nota de um aluno e dependendo da nota que ele informar, o classifique de acordo com as regras abaixo:\n",
    "\n",
    "Classifique a nota do aluno:\n",
    "\n",
    "- 9 até 10: \"Excelente\"\n",
    "\n",
    "- 7 até 8.9: \"Bom\"\n",
    "\n",
    "- 5 até 6.9: \"Regular\"\n",
    "\n",
    "- 0 até 4.9: \"Reprovado\"\n",
    "\n",
    "mostre para o aluno a classificação dele através de um print, exemplo print(\"Excelente\")."
   ]
  },
  {
   "cell_type": "code",
   "execution_count": null,
   "id": "465c6812",
   "metadata": {},
   "outputs": [
    {
     "name": "stdout",
     "output_type": "stream",
     "text": [
      "exclente\n"
     ]
    }
   ],
   "source": [
    "nota = float(input(\"Informe a sua nota de (0 a 10)\"))\n",
    "\n",
    "if nota >= 9 and nota <=10:\n",
    "    print(\"exclente\")\n",
    "elif nota >= 7 and nota <= 8.9:\n",
    "    print(\"Bom\")\n",
    "elif  nota >= 5 and nota <= 6.9:\n",
    "    print(\"Regular\")\n",
    "elif  nota >= 0 and nota <= 4.9:\n",
    "    print(\"Reprovado\")\n",
    " \n",
    "\n",
    "\n",
    "\n"
   ]
  },
  {
   "cell_type": "markdown",
   "id": "251b0fa7",
   "metadata": {},
   "source": [
    "Exercício 6 - Acesso ao Sistema 🔑\n",
    "\n",
    "Crie um login simples:\n",
    "\n",
    "- usuario_correto = \"admin\"\n",
    "\n",
    "- senha_correta = \"1234\"\n",
    "\n",
    "**Peça para o usuário digitar primeiro o login e depois a senha, caso login e senha estejam corretos programa deve mostrar \"Acesso permitido\" se não \"Acesso negado\"**\n"
   ]
  },
  {
   "cell_type": "code",
   "execution_count": 47,
   "id": "7fcf16db",
   "metadata": {},
   "outputs": [
    {
     "name": "stdout",
     "output_type": "stream",
     "text": [
      "acesso permitido, bem vindo ao sistemaadmin\n"
     ]
    }
   ],
   "source": [
    "usuario_correeto = \"admin\"\n",
    "senha_correta = 2121\n",
    "\n",
    "login = input(\"nome de usuario:\")\n",
    "senha = int(input(\"digite a sua senha :\"))\n",
    "if login == usuario_correeto and senha == senha_correta:\n",
    "    print(f\"acesso permitido, bem vindo ao sistema{login}\")\n",
    "else:\n",
    "    print(\"acesso negado\")"
   ]
  },
  {
   "cell_type": "markdown",
   "id": "46c27406",
   "metadata": {},
   "source": [
    "Exercício 7 - Maior Número 📉\n",
    "\n",
    "Peça 3 números e mostre qual é o maior deles."
   ]
  },
  {
   "cell_type": "code",
   "execution_count": null,
   "id": "916439ff",
   "metadata": {},
   "outputs": [
    {
     "name": "stdout",
     "output_type": "stream",
     "text": [
      "o: 3 é maior que o 1 e o 2\n"
     ]
    }
   ],
   "source": [
    "primeiro_numero = int(input(\"me fale um numero\"))\n",
    "segundo_numero = int(input(\"me fale outro numero\"))\n",
    "terceiro_numero = int(input(\"me fale outro numero\"))\n",
    "if primeiro_numero > segundo_numero and primeiro_numero > terceiro_numero:\n",
    "    print(f\"o: {primeiro_numero} é maior que o {segundo_numero} e o {terceiro_numero}\")\n",
    "elif segundo_numero > terceiro_numero and segundo_numero > primeiro_numero:\n",
    "    print(f\"o: {segundo_numero} é maior que o {terceiro_numero} e o {primeiro_numero}\")\n",
    "elif terceiro_numero > primeiro_numero and terceiro_numero > segundo_numero:\n",
    "   print(f\"o: {terceiro_numero} é maior que o {primeiro_numero} e o {segundo_numero}\")\n",
    "\n"
   ]
  },
  {
   "cell_type": "markdown",
   "id": "984fe0fe",
   "metadata": {},
   "source": [
    "Exercício 8 - Dia da Semana\n",
    "Peça um número de 1 a 7 e mostre o dia da semana correspondente: 📅\n",
    "\n",
    "- 1: Domingo\n",
    "\n",
    "- 2: Segunda\n",
    "\n",
    "- ... até 7: Sábado"
   ]
  },
  {
   "cell_type": "code",
   "execution_count": 2,
   "id": "f34c6fbf",
   "metadata": {},
   "outputs": [
    {
     "name": "stdout",
     "output_type": "stream",
     "text": [
      "é terça\n"
     ]
    }
   ],
   "source": [
    "numero = int(input(\"me fale um numero para saber o seu dia da semana de 1 a 7\"))\n",
    "\n",
    "if numero == 1:\n",
    "    print (\"é domigo\")\n",
    "elif numero == 2:\n",
    "         print (\"é segunda\")\n",
    "elif numero == 3:\n",
    "         print (\"é terça\")\n",
    "elif numero == 4:\n",
    "         print (\"é quarta\")\n",
    "elif numero == 5:\n",
    "         print (\"é quinta\")\n",
    "elif numero == 6:\n",
    "         print (\"é sexta\")\n",
    "elif numero == 7:\n",
    "         print (\"é sabado\")"
   ]
  },
  {
   "cell_type": "markdown",
   "id": "f1f760b7",
   "metadata": {},
   "source": [
    "Exercício 9 - Calculadora Simples 📏📐\n",
    "\n",
    "- Faça uma calculadora que:\n",
    "\n",
    "- Pede dois números\n",
    "\n",
    "- Pede a operação (+, -, *, /)\n",
    "\n",
    "- Dependendo da operação mostre o resultado.\n",
    "\n"
   ]
  },
  {
   "cell_type": "code",
   "execution_count": 4,
   "id": "95c6ce03",
   "metadata": {},
   "outputs": [
    {
     "name": "stdout",
     "output_type": "stream",
     "text": [
      "a soma dos dois numeros é 2.0\n"
     ]
    }
   ],
   "source": [
    "numero1 = int(input(\"me fale um numero de?\"))\n",
    "numero2 = int(input(\"me fale outro numero?\"))\n",
    "calculo = input(\"me fale uma soma:(+,-,*,/)\")\n",
    "\n",
    "if calculo == \"+\":\n",
    "    print(f\"a soma dos dois numeros é {numero1+numero2}\")\n",
    "elif calculo == \"-\":\n",
    " print(f\"a soma dos dois numeros é {numero1-numero2}\")\n",
    "elif calculo == \"*\":\n",
    "    print(f\"a soma dos dois numeros é {numero1*numero2}\")\n",
    "elif calculo == \"/\":\n",
    "   print(f\"a soma dos dois numeros é {numero1/numero2}\")"
   ]
  },
  {
   "cell_type": "markdown",
   "id": "3b0a40f6",
   "metadata": {},
   "source": []
  },
  {
   "cell_type": "markdown",
   "id": "f39f6b73",
   "metadata": {},
   "source": [
    "Exercício 10 - Sistema de Multas 🚙🚘🧾\n",
    "\n",
    "\n",
    "- Velocidade máxima: 80 km/h 🚫\n",
    "\n",
    "- Até 80: \"Sem multa\"\n",
    "\n",
    "- 81-100: \"Multa leve\"\n",
    "\n",
    "- Acima de 100: \"Multa grave\""
   ]
  },
  {
   "cell_type": "code",
   "execution_count": 9,
   "id": "20fdc977",
   "metadata": {},
   "outputs": [
    {
     "name": "stdout",
     "output_type": "stream",
     "text": [
      " multa grave\n"
     ]
    }
   ],
   "source": [
    "velo_carro = int(input(\"me fale a velocidade do carro?\"))\n",
    "\n",
    "if velo_carro ==80:\n",
    "    print(\"sem multa\")\n",
    "elif velo_carro >=81 and velo_carro<=100:\n",
    "    print(\"multa leve\")\n",
    "elif velo_carro >100:\n",
    "    print(\" multa grave\")\n"
   ]
  }
 ],
 "metadata": {
  "kernelspec": {
   "display_name": "Python 3",
   "language": "python",
   "name": "python3"
  },
  "language_info": {
   "codemirror_mode": {
    "name": "ipython",
    "version": 3
   },
   "file_extension": ".py",
   "mimetype": "text/x-python",
   "name": "python",
   "nbconvert_exporter": "python",
   "pygments_lexer": "ipython3",
   "version": "3.13.2"
  }
 },
 "nbformat": 4,
 "nbformat_minor": 5
}
