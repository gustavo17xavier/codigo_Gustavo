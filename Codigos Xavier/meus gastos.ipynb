{
 "cells": [
  {
   "cell_type": "markdown",
   "id": "56d0fac2",
   "metadata": {},
   "source": [
    "### CLT"
   ]
  },
  {
   "cell_type": "code",
   "execution_count": 14,
   "id": "65b8e2b4",
   "metadata": {},
   "outputs": [
    {
     "name": "stdout",
     "output_type": "stream",
     "text": [
      "-2870\n"
     ]
    }
   ],
   "source": [
    "salario = +1200\n",
    "gasolina = -200\n",
    "internet = -200\n",
    "alimento = -1500\n",
    "agua = -100\n",
    "luz = -300\n",
    "condominio = -570\n",
    "intreterimento = -1200\n",
    "\n",
    "\n",
    "calculco = (salario + gasolina + internet + alimento + agua + luz + condominio + intreterimento)\n",
    "\n",
    "print(calculco)"
   ]
  }
 ],
 "metadata": {
  "kernelspec": {
   "display_name": "Python 3",
   "language": "python",
   "name": "python3"
  },
  "language_info": {
   "codemirror_mode": {
    "name": "ipython",
    "version": 3
   },
   "file_extension": ".py",
   "mimetype": "text/x-python",
   "name": "python",
   "nbconvert_exporter": "python",
   "pygments_lexer": "ipython3",
   "version": "3.13.2"
  }
 },
 "nbformat": 4,
 "nbformat_minor": 5
}
