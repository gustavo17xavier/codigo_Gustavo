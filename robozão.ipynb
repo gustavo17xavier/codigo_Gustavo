{
 "cells": [
  {
   "cell_type": "code",
   "execution_count": 4,
   "id": "a2d72bbf",
   "metadata": {},
   "outputs": [],
   "source": [
    "import pyautogui as aut"
   ]
  },
  {
   "cell_type": "code",
   "execution_count": null,
   "id": "2326dd17",
   "metadata": {},
   "outputs": [],
   "source": [
    "\"https://www.youtube.com/watch?v=nIdxcDOHX3I\"\n"
   ]
  },
  {
   "cell_type": "markdown",
   "id": "507a973d",
   "metadata": {},
   "source": [
    "### YOUTUBE\n"
   ]
  },
  {
   "cell_type": "code",
   "execution_count": 5,
   "id": "de3051e2",
   "metadata": {},
   "outputs": [],
   "source": [
    "\n",
    "##estou importando o pyautogui e apelidando ele a aut\n",
    "\n",
    " #pressiono a tecla de atalho win r\n",
    "aut.hotkey(\"win\",\"r\")\n",
    " ## escreva not pad\n",
    "aut.write(\"chrome\", interval=0.3)\n",
    " #esperar 1 segundo\n",
    "aut.sleep(1)\n",
    "#apertar o enterotepad\n",
    "aut.press(\"Enter\")\n",
    "aut.sleep(1)\n",
    "aut.hotkey(\"Ctrl\", \"v\")\n",
    "aut.press(\"Enter\")"
   ]
  },
  {
   "cell_type": "code",
   "execution_count": null,
   "id": "378aea4f",
   "metadata": {},
   "outputs": [],
   "source": [
    "import pyautogui as aut\n",
    "aut.mouseInfo()"
   ]
  },
  {
   "cell_type": "markdown",
   "id": "1b750bd1",
   "metadata": {},
   "source": [
    "### BLOCO DE NOTAS\n",
    "\n"
   ]
  },
  {
   "cell_type": "code",
   "execution_count": null,
   "id": "210f0aa8",
   "metadata": {},
   "outputs": [],
   "source": [
    "\n",
    "##estou importando o pyautogui e apelidando ele a aut\n",
    "import pyautogui as aut\n",
    "# #pressiono a tecla de atalho win r\n",
    "aut.hotkey(\"win\",\"r\")\n",
    "# ## escreva not pad\n",
    "aut.write(\"notepad\", interval=0.7)\n",
    "# #esperar 1 segundo\n",
    "aut.sleep(1)\n",
    "# #apertar o enterotepad\n",
    "aut.press(\"Enter\")"
   ]
  },
  {
   "cell_type": "markdown",
   "id": "4b0d4e23",
   "metadata": {},
   "source": [
    "### CALCULADORA"
   ]
  },
  {
   "cell_type": "code",
   "execution_count": null,
   "id": "28a82cc9",
   "metadata": {},
   "outputs": [],
   "source": [
    "\n",
    "aut.moveTo(1276,1045)\n",
    "\n",
    "aut.sleep(1)\n",
    "aut.click()\n",
    "\n",
    "aut.moveTo(94,475)\n",
    "aut.sleep(1)\n",
    "aut.click()\n",
    "\n",
    "aut.moveTo(315,469)\n",
    "aut.sleep(1)\n",
    "aut.click()\n",
    "\n",
    "aut.moveTo(259,414)\n",
    "aut.sleep(1)\n",
    "aut.click()\n",
    "\n",
    "aut.moveTo(326,540)\n",
    "aut.sleep(1)\n",
    "aut.click()\n",
    "\n",
    "aut.moveTo()\n",
    "aut.mouseInfo()"
   ]
  },
  {
   "cell_type": "markdown",
   "id": "52b9ff62",
   "metadata": {},
   "source": [
    "### PAINT"
   ]
  },
  {
   "cell_type": "code",
   "execution_count": 25,
   "id": "710a39f9",
   "metadata": {},
   "outputs": [],
   "source": [
    "import pyautogui as aut\n",
    "\n",
    "\n",
    "\n",
    "aut.moveTo(1359,1061)\n",
    "aut.sleep(1)\n",
    "aut.click()\n",
    "\n",
    "aut.moveTo(1084,187)\n",
    "aut.sleep(1)\n",
    "aut.click()\n",
    "\n",
    "aut.moveTo()\n",
    "\n",
    "\n",
    "\n"
   ]
  }
 ],
 "metadata": {
  "kernelspec": {
   "display_name": "Python 3",
   "language": "python",
   "name": "python3"
  },
  "language_info": {
   "codemirror_mode": {
    "name": "ipython",
    "version": 3
   },
   "file_extension": ".py",
   "mimetype": "text/x-python",
   "name": "python",
   "nbconvert_exporter": "python",
   "pygments_lexer": "ipython3",
   "version": "3.13.2"
  }
 },
 "nbformat": 4,
 "nbformat_minor": 5
}
